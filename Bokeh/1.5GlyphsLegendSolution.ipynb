{
 "cells": [
  {
   "cell_type": "markdown",
   "metadata": {},
   "source": [
    "<h1 align='center'>Bokeh Tutorial</h1>"
   ]
  },
  {
   "cell_type": "markdown",
   "metadata": {},
   "source": [
    "## 1.5 Glyphs - Legend"
   ]
  },
  {
   "cell_type": "markdown",
   "metadata": {},
   "source": [
    "**Exercise: Create a legend plot for the temperature map with the Glyph interface**\n",
    "\n",
    "Tips:\n",
    "\n",
    "- Glyphs: Text, Rect"
   ]
  },
  {
   "cell_type": "code",
   "execution_count": 42,
   "metadata": {
    "collapsed": false
   },
   "outputs": [],
   "source": [
    "# Imports\n",
    "from bokeh.models.glyphs import Text, Rect\n",
    "from bokeh.models import Plot, Range1d\n",
    "from bokeh.palettes import RdBu11\n",
    "from bokeh.plotting import output_notebook, show"
   ]
  },
  {
   "cell_type": "code",
   "execution_count": 43,
   "metadata": {
    "collapsed": false
   },
   "outputs": [
    {
     "data": {
      "text/html": [
       "\n",
       "\n",
       "    <script type=\"text/javascript\">\n",
       "      \n",
       "      (function(global) {\n",
       "        function now() {\n",
       "          return new Date();\n",
       "        }\n",
       "      \n",
       "        if (typeof (window._bokeh_onload_callbacks) === \"undefined\") {\n",
       "          window._bokeh_onload_callbacks = [];\n",
       "        }\n",
       "      \n",
       "        function run_callbacks() {\n",
       "          window._bokeh_onload_callbacks.forEach(function(callback) { callback() });\n",
       "          delete window._bokeh_onload_callbacks\n",
       "          console.info(\"Bokeh: all callbacks have finished\");\n",
       "        }\n",
       "      \n",
       "        function load_libs(js_urls, callback) {\n",
       "          window._bokeh_onload_callbacks.push(callback);\n",
       "          if (window._bokeh_is_loading > 0) {\n",
       "            console.log(\"Bokeh: BokehJS is being loaded, scheduling callback at\", now());\n",
       "            return null;\n",
       "          }\n",
       "          if (js_urls == null || js_urls.length === 0) {\n",
       "            run_callbacks();\n",
       "            return null;\n",
       "          }\n",
       "          console.log(\"Bokeh: BokehJS not loaded, scheduling load and callback at\", now());\n",
       "          window._bokeh_is_loading = js_urls.length;\n",
       "          for (var i = 0; i < js_urls.length; i++) {\n",
       "            var url = js_urls[i];\n",
       "            var s = document.createElement('script');\n",
       "            s.src = url;\n",
       "            s.async = false;\n",
       "            s.onreadystatechange = s.onload = function() {\n",
       "              window._bokeh_is_loading--;\n",
       "              if (window._bokeh_is_loading === 0) {\n",
       "                console.log(\"Bokeh: all BokehJS libraries loaded\");\n",
       "                run_callbacks()\n",
       "              }\n",
       "            };\n",
       "            s.onerror = function() {\n",
       "              console.warn(\"failed to load library \" + url);\n",
       "            };\n",
       "            console.log(\"Bokeh: injecting script tag for BokehJS library: \", url);\n",
       "            document.getElementsByTagName(\"head\")[0].appendChild(s);\n",
       "          }\n",
       "        };var js_urls = ['https://cdn.pydata.org/bokeh/release/bokeh-0.11.0.min.js', 'https://cdn.pydata.org/bokeh/release/bokeh-widgets-0.11.0.min.js', 'https://cdn.pydata.org/bokeh/release/bokeh-compiler-0.11.0.min.js'];\n",
       "      \n",
       "        var inline_js = [\n",
       "          function(Bokeh) {\n",
       "            Bokeh.set_log_level(\"info\");\n",
       "          },\n",
       "          function(Bokeh) {\n",
       "            console.log(\"Bokeh: injecting CSS: https://cdn.pydata.org/bokeh/release/bokeh-0.11.0.min.css\");\n",
       "            Bokeh.embed.inject_css(\"https://cdn.pydata.org/bokeh/release/bokeh-0.11.0.min.css\");\n",
       "            console.log(\"Bokeh: injecting CSS: https://cdn.pydata.org/bokeh/release/bokeh-widgets-0.11.0.min.css\");\n",
       "            Bokeh.embed.inject_css(\"https://cdn.pydata.org/bokeh/release/bokeh-widgets-0.11.0.min.css\");\n",
       "          }\n",
       "        ];\n",
       "      \n",
       "        function run_inline_js() {\n",
       "          for (var i = 0; i < inline_js.length; i++) {\n",
       "            inline_js[i](window.Bokeh);\n",
       "          }\n",
       "        }\n",
       "      \n",
       "        if (window._bokeh_is_loading === 0) {\n",
       "          console.log(\"Bokeh: BokehJS loaded, going straight to plotting\");\n",
       "          run_inline_js();\n",
       "        } else {\n",
       "          load_libs(js_urls, function() {\n",
       "            console.log(\"Bokeh: BokehJS plotting callback run at\", now());\n",
       "            run_inline_js();\n",
       "          });\n",
       "        }\n",
       "      }(this));\n",
       "    </script>\n",
       "    <div>\n",
       "        <a href=\"http://bokeh.pydata.org\" target=\"_blank\" class=\"bk-logo bk-logo-small bk-logo-notebook\"></a>\n",
       "        <span>BokehJS successfully loaded.</span>\n",
       "    </div>"
      ]
     },
     "metadata": {},
     "output_type": "display_data"
    }
   ],
   "source": [
    "# Output option\n",
    "output_notebook()"
   ]
  },
  {
   "cell_type": "code",
   "execution_count": 44,
   "metadata": {
    "collapsed": true
   },
   "outputs": [],
   "source": [
    "# Set ranges\n",
    "xdr = Range1d(0, 100)\n",
    "ydr = Range1d(0, 500)"
   ]
  },
  {
   "cell_type": "code",
   "execution_count": 49,
   "metadata": {
    "collapsed": true
   },
   "outputs": [],
   "source": [
    "# Create plot\n",
    "plot = Plot(\n",
    "    x_range=xdr,\n",
    "    y_range=ydr,\n",
    "    title=\"\",\n",
    "    plot_width=500,\n",
    "    plot_height=500,\n",
    "    min_border=0,\n",
    "    #toolbar_location=None,\n",
    "    outline_line_color=\"#FFFFFF\",\n",
    ")"
   ]
  },
  {
   "cell_type": "code",
   "execution_count": 50,
   "metadata": {
    "collapsed": true
   },
   "outputs": [],
   "source": [
    "# For each color in your palette, add a Rect glyph to the plot with the appropriate properties\n",
    "palette = RdBu11\n",
    "width = 40\n",
    "for i, color in enumerate(palette):\n",
    "    rect = Rect(\n",
    "        x=40, y=(width * (i + 1)),\n",
    "        width=width, height=40,\n",
    "        fill_color=color, line_color='black'\n",
    "    )\n",
    "    plot.add_glyph(rect)"
   ]
  },
  {
   "cell_type": "code",
   "execution_count": 51,
   "metadata": {
    "collapsed": false
   },
   "outputs": [
    {
     "data": {
      "text/plain": [
       "<bokeh.models.renderers.GlyphRenderer at 0xc5b8d30>"
      ]
     },
     "execution_count": 51,
     "metadata": {},
     "output_type": "execute_result"
    }
   ],
   "source": [
    "# Add text labels and add them to the plot\n",
    "minimum = Text(x=50, y=0, text=['-6 ºC'])\n",
    "plot.add_glyph(minimum)\n",
    "maximum = Text(x=50, y=460, text=['6 ºC'])\n",
    "plot.add_glyph(maximum)"
   ]
  },
  {
   "cell_type": "code",
   "execution_count": 52,
   "metadata": {
    "collapsed": false
   },
   "outputs": [
    {
     "data": {
      "text/html": [
       "\n",
       "\n",
       "    <div class=\"plotdiv\" id=\"c7cc6fcb-ae69-43fd-9503-32ad582c767c\"></div>\n",
       "<script type=\"text/javascript\">\n",
       "  \n",
       "  (function(global) {\n",
       "    function now() {\n",
       "      return new Date();\n",
       "    }\n",
       "  \n",
       "    if (typeof (window._bokeh_onload_callbacks) === \"undefined\") {\n",
       "      window._bokeh_onload_callbacks = [];\n",
       "    }\n",
       "  \n",
       "    function run_callbacks() {\n",
       "      window._bokeh_onload_callbacks.forEach(function(callback) { callback() });\n",
       "      delete window._bokeh_onload_callbacks\n",
       "      console.info(\"Bokeh: all callbacks have finished\");\n",
       "    }\n",
       "  \n",
       "    function load_libs(js_urls, callback) {\n",
       "      window._bokeh_onload_callbacks.push(callback);\n",
       "      if (window._bokeh_is_loading > 0) {\n",
       "        console.log(\"Bokeh: BokehJS is being loaded, scheduling callback at\", now());\n",
       "        return null;\n",
       "      }\n",
       "      if (js_urls == null || js_urls.length === 0) {\n",
       "        run_callbacks();\n",
       "        return null;\n",
       "      }\n",
       "      console.log(\"Bokeh: BokehJS not loaded, scheduling load and callback at\", now());\n",
       "      window._bokeh_is_loading = js_urls.length;\n",
       "      for (var i = 0; i < js_urls.length; i++) {\n",
       "        var url = js_urls[i];\n",
       "        var s = document.createElement('script');\n",
       "        s.src = url;\n",
       "        s.async = false;\n",
       "        s.onreadystatechange = s.onload = function() {\n",
       "          window._bokeh_is_loading--;\n",
       "          if (window._bokeh_is_loading === 0) {\n",
       "            console.log(\"Bokeh: all BokehJS libraries loaded\");\n",
       "            run_callbacks()\n",
       "          }\n",
       "        };\n",
       "        s.onerror = function() {\n",
       "          console.warn(\"failed to load library \" + url);\n",
       "        };\n",
       "        console.log(\"Bokeh: injecting script tag for BokehJS library: \", url);\n",
       "        document.getElementsByTagName(\"head\")[0].appendChild(s);\n",
       "      }\n",
       "    };var element = document.getElementById(\"c7cc6fcb-ae69-43fd-9503-32ad582c767c\");\n",
       "    if (element == null) {\n",
       "      console.log(\"Bokeh: ERROR: autoload.js configured with elementid 'c7cc6fcb-ae69-43fd-9503-32ad582c767c' but no matching script tag was found. \")\n",
       "      return false;\n",
       "    }var js_urls = [];\n",
       "  \n",
       "    var inline_js = [\n",
       "      function(Bokeh) {\n",
       "        Bokeh.$(function() {\n",
       "            var docs_json = {\"ce4697b1-985b-4460-894a-a07fec0dea5f\": {\"version\": \"0.11.0\", \"roots\": {\"root_ids\": [\"33f80b2e-323d-4d9f-8d57-ff1a65327b8b\"], \"references\": [{\"attributes\": {\"y\": {\"value\": 320}, \"width\": {\"units\": \"data\", \"value\": 40}, \"x\": {\"value\": 40}, \"fill_color\": {\"value\": \"#f4a582\"}, \"height\": {\"units\": \"data\", \"value\": 40}}, \"type\": \"Rect\", \"id\": \"d37b0424-0989-4208-a2cc-4863387b7be2\"}, {\"attributes\": {\"callback\": null, \"end\": 500}, \"type\": \"Range1d\", \"id\": \"7f1be15d-afe0-4611-9a5d-96f554ac2191\"}, {\"attributes\": {\"y\": {\"value\": 440}, \"width\": {\"units\": \"data\", \"value\": 40}, \"x\": {\"value\": 40}, \"fill_color\": {\"value\": \"#67001f\"}, \"height\": {\"units\": \"data\", \"value\": 40}}, \"type\": \"Rect\", \"id\": \"556199bf-13f8-45d4-8bfb-93e33ab0a28e\"}, {\"attributes\": {\"callback\": null}, \"type\": \"ColumnDataSource\", \"id\": \"4277ee54-a616-4d00-9896-11b10f4397c2\"}, {\"attributes\": {\"callback\": null}, \"type\": \"ColumnDataSource\", \"id\": \"b67c9613-83f5-4b2e-8712-bbd791a5b48d\"}, {\"attributes\": {\"nonselection_glyph\": null, \"data_source\": {\"type\": \"ColumnDataSource\", \"id\": \"4277ee54-a616-4d00-9896-11b10f4397c2\"}, \"selection_glyph\": null, \"hover_glyph\": null, \"glyph\": {\"type\": \"Rect\", \"id\": \"8daa2fe9-72f9-4ca9-b255-f67039eb296a\"}}, \"type\": \"GlyphRenderer\", \"id\": \"abc80b8a-ea4d-43b2-91b4-8444e816fc7a\"}, {\"attributes\": {\"y\": {\"value\": 280}, \"width\": {\"units\": \"data\", \"value\": 40}, \"x\": {\"value\": 40}, \"fill_color\": {\"value\": \"#fddbc7\"}, \"height\": {\"units\": \"data\", \"value\": 40}}, \"type\": \"Rect\", \"id\": \"2e3d9028-cfe1-4b94-a93d-8bdc9dea7895\"}, {\"attributes\": {\"callback\": null}, \"type\": \"ColumnDataSource\", \"id\": \"befda27b-6848-450b-801b-5278ab6dc1bb\"}, {\"attributes\": {\"callback\": null}, \"type\": \"ColumnDataSource\", \"id\": \"aa3145f0-cf78-427f-8357-54f9c506bbd6\"}, {\"attributes\": {\"y\": {\"value\": 80}, \"width\": {\"units\": \"data\", \"value\": 40}, \"x\": {\"value\": 40}, \"fill_color\": {\"value\": \"#2166ac\"}, \"height\": {\"units\": \"data\", \"value\": 40}}, \"type\": \"Rect\", \"id\": \"a9014643-b2a8-4b0b-92eb-9070c9a9e8c9\"}, {\"attributes\": {\"nonselection_glyph\": null, \"data_source\": {\"type\": \"ColumnDataSource\", \"id\": \"993b6b0e-e3d7-4070-8e97-24ea59879349\"}, \"selection_glyph\": null, \"hover_glyph\": null, \"glyph\": {\"type\": \"Rect\", \"id\": \"2731a451-0b48-4817-86bd-67ab7b545155\"}}, \"type\": \"GlyphRenderer\", \"id\": \"9afc548c-8baa-406e-866f-cbbc50feaca6\"}, {\"attributes\": {\"callback\": null}, \"type\": \"ColumnDataSource\", \"id\": \"d6dd57ab-afab-4048-bee5-03881f2efe80\"}, {\"attributes\": {\"y\": {\"value\": 200}, \"width\": {\"units\": \"data\", \"value\": 40}, \"x\": {\"value\": 40}, \"fill_color\": {\"value\": \"#d1e5f0\"}, \"height\": {\"units\": \"data\", \"value\": 40}}, \"type\": \"Rect\", \"id\": \"8daa2fe9-72f9-4ca9-b255-f67039eb296a\"}, {\"attributes\": {\"nonselection_glyph\": null, \"data_source\": {\"type\": \"ColumnDataSource\", \"id\": \"1023d986-be6a-4ff5-b305-018beae40aa4\"}, \"selection_glyph\": null, \"hover_glyph\": null, \"glyph\": {\"type\": \"Rect\", \"id\": \"e2bd6a14-d72a-4e83-8930-fa714a7739e7\"}}, \"type\": \"GlyphRenderer\", \"id\": \"9f406188-2985-4173-adcb-8641640901ac\"}, {\"attributes\": {\"nonselection_glyph\": null, \"data_source\": {\"type\": \"ColumnDataSource\", \"id\": \"36efc2dd-70d6-44c7-85e9-dbb1d7925d87\"}, \"selection_glyph\": null, \"hover_glyph\": null, \"glyph\": {\"type\": \"Rect\", \"id\": \"fa2cdf7f-4e0c-4575-847e-18b51eb804c7\"}}, \"type\": \"GlyphRenderer\", \"id\": \"3c646316-9dad-4c1b-af24-469388bf8096\"}, {\"attributes\": {\"callback\": null, \"end\": 100}, \"type\": \"Range1d\", \"id\": \"cb1c9f46-4bd0-4785-8a0e-566632a82394\"}, {\"attributes\": {\"nonselection_glyph\": null, \"data_source\": {\"type\": \"ColumnDataSource\", \"id\": \"aa3145f0-cf78-427f-8357-54f9c506bbd6\"}, \"selection_glyph\": null, \"hover_glyph\": null, \"glyph\": {\"type\": \"Rect\", \"id\": \"d37b0424-0989-4208-a2cc-4863387b7be2\"}}, \"type\": \"GlyphRenderer\", \"id\": \"088848b3-24a8-4c90-8f97-b6a14f84d45b\"}, {\"attributes\": {\"y\": {\"value\": 40}, \"width\": {\"units\": \"data\", \"value\": 40}, \"x\": {\"value\": 40}, \"fill_color\": {\"value\": \"#053061\"}, \"height\": {\"units\": \"data\", \"value\": 40}}, \"type\": \"Rect\", \"id\": \"2731a451-0b48-4817-86bd-67ab7b545155\"}, {\"attributes\": {\"nonselection_glyph\": null, \"data_source\": {\"type\": \"ColumnDataSource\", \"id\": \"23fea7c7-594d-4f70-879f-748d9e402aa1\"}, \"selection_glyph\": null, \"hover_glyph\": null, \"glyph\": {\"type\": \"Rect\", \"id\": \"2e3d9028-cfe1-4b94-a93d-8bdc9dea7895\"}}, \"type\": \"GlyphRenderer\", \"id\": \"233d2382-125b-4b13-a892-cae5e98be8d9\"}, {\"attributes\": {\"callback\": null}, \"type\": \"ColumnDataSource\", \"id\": \"079ef7d7-d4a1-4bcf-84cd-8c3dd4d6c147\"}, {\"attributes\": {\"nonselection_glyph\": null, \"data_source\": {\"type\": \"ColumnDataSource\", \"id\": \"9846cd39-f928-499e-af1c-447617e0d5ca\"}, \"selection_glyph\": null, \"hover_glyph\": null, \"glyph\": {\"type\": \"Rect\", \"id\": \"a9014643-b2a8-4b0b-92eb-9070c9a9e8c9\"}}, \"type\": \"GlyphRenderer\", \"id\": \"daa09af5-db4c-4d40-8ccd-05fe8b440201\"}, {\"attributes\": {\"y\": {\"value\": 460}, \"text\": {\"value\": \"6 \\u00baC\"}, \"x\": {\"value\": 50}}, \"type\": \"Text\", \"id\": \"8f7691e1-f04c-47fa-813e-50bf1887f4bb\"}, {\"attributes\": {\"callback\": null}, \"type\": \"ColumnDataSource\", \"id\": \"9846cd39-f928-499e-af1c-447617e0d5ca\"}, {\"attributes\": {\"nonselection_glyph\": null, \"data_source\": {\"type\": \"ColumnDataSource\", \"id\": \"d6dd57ab-afab-4048-bee5-03881f2efe80\"}, \"selection_glyph\": null, \"hover_glyph\": null, \"glyph\": {\"type\": \"Rect\", \"id\": \"12d46176-3d4e-43d0-b121-53dcb584a308\"}}, \"type\": \"GlyphRenderer\", \"id\": \"4482ed14-a0b8-4406-8762-b5481ddb9c0d\"}, {\"attributes\": {\"nonselection_glyph\": null, \"data_source\": {\"type\": \"ColumnDataSource\", \"id\": \"befda27b-6848-450b-801b-5278ab6dc1bb\"}, \"selection_glyph\": null, \"hover_glyph\": null, \"glyph\": {\"type\": \"Text\", \"id\": \"8f7691e1-f04c-47fa-813e-50bf1887f4bb\"}}, \"type\": \"GlyphRenderer\", \"id\": \"cec33c25-80cf-4a6d-876b-957c80b9eab3\"}, {\"attributes\": {\"nonselection_glyph\": null, \"data_source\": {\"type\": \"ColumnDataSource\", \"id\": \"079ef7d7-d4a1-4bcf-84cd-8c3dd4d6c147\"}, \"selection_glyph\": null, \"hover_glyph\": null, \"glyph\": {\"type\": \"Text\", \"id\": \"be8fb0f3-6bd6-4fe7-b748-78178da1a11f\"}}, \"type\": \"GlyphRenderer\", \"id\": \"d357f367-32ee-47b4-ada8-e704d9716928\"}, {\"attributes\": {\"callback\": null}, \"type\": \"ColumnDataSource\", \"id\": \"025f7caf-662d-4167-9f05-98a9c8c10c91\"}, {\"attributes\": {\"callback\": null}, \"type\": \"ColumnDataSource\", \"id\": \"7c4558e2-f9ab-494b-b06f-09175433ff5d\"}, {\"attributes\": {\"y\": {\"value\": 120}, \"width\": {\"units\": \"data\", \"value\": 40}, \"x\": {\"value\": 40}, \"fill_color\": {\"value\": \"#4393c3\"}, \"height\": {\"units\": \"data\", \"value\": 40}}, \"type\": \"Rect\", \"id\": \"12d46176-3d4e-43d0-b121-53dcb584a308\"}, {\"attributes\": {\"callback\": null}, \"type\": \"ColumnDataSource\", \"id\": \"993b6b0e-e3d7-4070-8e97-24ea59879349\"}, {\"attributes\": {\"callback\": null}, \"type\": \"ColumnDataSource\", \"id\": \"36efc2dd-70d6-44c7-85e9-dbb1d7925d87\"}, {\"attributes\": {\"callback\": null}, \"type\": \"ColumnDataSource\", \"id\": \"23fea7c7-594d-4f70-879f-748d9e402aa1\"}, {\"attributes\": {\"nonselection_glyph\": null, \"data_source\": {\"type\": \"ColumnDataSource\", \"id\": \"025f7caf-662d-4167-9f05-98a9c8c10c91\"}, \"selection_glyph\": null, \"hover_glyph\": null, \"glyph\": {\"type\": \"Rect\", \"id\": \"55b1e676-61d0-48c7-b596-44293f209556\"}}, \"type\": \"GlyphRenderer\", \"id\": \"78eaec3d-b658-4286-a65e-333d61c7912f\"}, {\"attributes\": {}, \"type\": \"ToolEvents\", \"id\": \"add59b3d-f60f-43c7-91f9-f0f772680fd9\"}, {\"attributes\": {\"y\": {\"value\": 0}, \"text\": {\"value\": \"-6 \\u00baC\"}, \"x\": {\"value\": 50}}, \"type\": \"Text\", \"id\": \"be8fb0f3-6bd6-4fe7-b748-78178da1a11f\"}, {\"attributes\": {\"y\": {\"value\": 360}, \"width\": {\"units\": \"data\", \"value\": 40}, \"x\": {\"value\": 40}, \"fill_color\": {\"value\": \"#d6604d\"}, \"height\": {\"units\": \"data\", \"value\": 40}}, \"type\": \"Rect\", \"id\": \"e2bd6a14-d72a-4e83-8930-fa714a7739e7\"}, {\"attributes\": {\"nonselection_glyph\": null, \"data_source\": {\"type\": \"ColumnDataSource\", \"id\": \"b67c9613-83f5-4b2e-8712-bbd791a5b48d\"}, \"selection_glyph\": null, \"hover_glyph\": null, \"glyph\": {\"type\": \"Rect\", \"id\": \"556199bf-13f8-45d4-8bfb-93e33ab0a28e\"}}, \"type\": \"GlyphRenderer\", \"id\": \"6cb57f2b-2171-4338-87ac-21037f2c6d9d\"}, {\"attributes\": {\"y\": {\"value\": 400}, \"width\": {\"units\": \"data\", \"value\": 40}, \"x\": {\"value\": 40}, \"fill_color\": {\"value\": \"#b2182b\"}, \"height\": {\"units\": \"data\", \"value\": 40}}, \"type\": \"Rect\", \"id\": \"55b1e676-61d0-48c7-b596-44293f209556\"}, {\"attributes\": {\"y\": {\"value\": 160}, \"width\": {\"units\": \"data\", \"value\": 40}, \"x\": {\"value\": 40}, \"fill_color\": {\"value\": \"#92c5de\"}, \"height\": {\"units\": \"data\", \"value\": 40}}, \"type\": \"Rect\", \"id\": \"fa2cdf7f-4e0c-4575-847e-18b51eb804c7\"}, {\"attributes\": {\"x_range\": {\"type\": \"Range1d\", \"id\": \"cb1c9f46-4bd0-4785-8a0e-566632a82394\"}, \"min_border\": 0, \"outline_line_color\": {\"value\": \"#FFFFFF\"}, \"plot_width\": 500, \"renderers\": [{\"type\": \"GlyphRenderer\", \"id\": \"9afc548c-8baa-406e-866f-cbbc50feaca6\"}, {\"type\": \"GlyphRenderer\", \"id\": \"daa09af5-db4c-4d40-8ccd-05fe8b440201\"}, {\"type\": \"GlyphRenderer\", \"id\": \"4482ed14-a0b8-4406-8762-b5481ddb9c0d\"}, {\"type\": \"GlyphRenderer\", \"id\": \"3c646316-9dad-4c1b-af24-469388bf8096\"}, {\"type\": \"GlyphRenderer\", \"id\": \"abc80b8a-ea4d-43b2-91b4-8444e816fc7a\"}, {\"type\": \"GlyphRenderer\", \"id\": \"99eb0778-61d1-4552-8548-2ae9b0e6112b\"}, {\"type\": \"GlyphRenderer\", \"id\": \"233d2382-125b-4b13-a892-cae5e98be8d9\"}, {\"type\": \"GlyphRenderer\", \"id\": \"088848b3-24a8-4c90-8f97-b6a14f84d45b\"}, {\"type\": \"GlyphRenderer\", \"id\": \"9f406188-2985-4173-adcb-8641640901ac\"}, {\"type\": \"GlyphRenderer\", \"id\": \"78eaec3d-b658-4286-a65e-333d61c7912f\"}, {\"type\": \"GlyphRenderer\", \"id\": \"6cb57f2b-2171-4338-87ac-21037f2c6d9d\"}, {\"type\": \"GlyphRenderer\", \"id\": \"d357f367-32ee-47b4-ada8-e704d9716928\"}, {\"type\": \"GlyphRenderer\", \"id\": \"cec33c25-80cf-4a6d-876b-957c80b9eab3\"}], \"plot_height\": 500, \"tool_events\": {\"type\": \"ToolEvents\", \"id\": \"add59b3d-f60f-43c7-91f9-f0f772680fd9\"}, \"y_range\": {\"type\": \"Range1d\", \"id\": \"7f1be15d-afe0-4611-9a5d-96f554ac2191\"}}, \"type\": \"Plot\", \"id\": \"33f80b2e-323d-4d9f-8d57-ff1a65327b8b\"}, {\"attributes\": {\"callback\": null}, \"type\": \"ColumnDataSource\", \"id\": \"1023d986-be6a-4ff5-b305-018beae40aa4\"}, {\"attributes\": {\"nonselection_glyph\": null, \"data_source\": {\"type\": \"ColumnDataSource\", \"id\": \"7c4558e2-f9ab-494b-b06f-09175433ff5d\"}, \"selection_glyph\": null, \"hover_glyph\": null, \"glyph\": {\"type\": \"Rect\", \"id\": \"02cbd91a-4fc0-46c0-8459-5c1d632ac779\"}}, \"type\": \"GlyphRenderer\", \"id\": \"99eb0778-61d1-4552-8548-2ae9b0e6112b\"}, {\"attributes\": {\"y\": {\"value\": 240}, \"width\": {\"units\": \"data\", \"value\": 40}, \"x\": {\"value\": 40}, \"fill_color\": {\"value\": \"#f7f7f7\"}, \"height\": {\"units\": \"data\", \"value\": 40}}, \"type\": \"Rect\", \"id\": \"02cbd91a-4fc0-46c0-8459-5c1d632ac779\"}]}, \"title\": \"Bokeh Application\"}};\n",
       "            var render_items = [{\"notebook_comms_target\": \"893a8cbd-8c0c-40a5-8b1d-6a8098c9202f\", \"docid\": \"ce4697b1-985b-4460-894a-a07fec0dea5f\", \"elementid\": \"c7cc6fcb-ae69-43fd-9503-32ad582c767c\", \"modelid\": \"33f80b2e-323d-4d9f-8d57-ff1a65327b8b\"}];\n",
       "            \n",
       "            Bokeh.embed.embed_items(docs_json, render_items);\n",
       "        });\n",
       "      },\n",
       "      function(Bokeh) {\n",
       "      }\n",
       "    ];\n",
       "  \n",
       "    function run_inline_js() {\n",
       "      for (var i = 0; i < inline_js.length; i++) {\n",
       "        inline_js[i](window.Bokeh);\n",
       "      }\n",
       "    }\n",
       "  \n",
       "    if (window._bokeh_is_loading === 0) {\n",
       "      console.log(\"Bokeh: BokehJS loaded, going straight to plotting\");\n",
       "      run_inline_js();\n",
       "    } else {\n",
       "      load_libs(js_urls, function() {\n",
       "        console.log(\"Bokeh: BokehJS plotting callback run at\", now());\n",
       "        run_inline_js();\n",
       "      });\n",
       "    }\n",
       "  }(this));\n",
       "</script>"
      ]
     },
     "metadata": {},
     "output_type": "display_data"
    },
    {
     "data": {
      "text/plain": [
       "<bokeh.io._CommsHandle at 0xc517a90>"
      ]
     },
     "execution_count": 52,
     "metadata": {},
     "output_type": "execute_result"
    }
   ],
   "source": [
    "# Show plot\n",
    "show(plot)"
   ]
  },
  {
   "cell_type": "code",
   "execution_count": null,
   "metadata": {
    "collapsed": true
   },
   "outputs": [],
   "source": []
  }
 ],
 "metadata": {
  "kernelspec": {
   "display_name": "Python 2",
   "language": "python",
   "name": "python2"
  },
  "language_info": {
   "codemirror_mode": {
    "name": "ipython",
    "version": 2
   },
   "file_extension": ".py",
   "mimetype": "text/x-python",
   "name": "python",
   "nbconvert_exporter": "python",
   "pygments_lexer": "ipython2",
   "version": "2.7.11"
  }
 },
 "nbformat": 4,
 "nbformat_minor": 0
}
